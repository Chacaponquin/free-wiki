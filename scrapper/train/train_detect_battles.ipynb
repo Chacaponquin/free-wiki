{
 "cells": [
  {
   "cell_type": "code",
   "execution_count": 4,
   "id": "1be22b2d17103786",
   "metadata": {
    "collapsed": false,
    "is_executing": true
   },
   "outputs": [],
   "source": [
    "import pandas as pd\n",
    "from datetime import datetime"
   ]
  },
  {
   "cell_type": "markdown",
   "id": "953d5aeb",
   "metadata": {},
   "source": [
    "## 💾 Load data"
   ]
  },
  {
   "cell_type": "code",
   "execution_count": 5,
   "id": "26b968f2e7888ca0",
   "metadata": {
    "collapsed": false
   },
   "outputs": [],
   "source": [
    "df = pd.read_json('../src/battle/infra/train-save.json')\n",
    "df.to_csv('train-battles.csv', index=False)\n",
    "\n",
    "df = pd.read_csv(\"train-battles.csv\")"
   ]
  },
  {
   "cell_type": "markdown",
   "id": "27d1806b",
   "metadata": {},
   "source": [
    "## 🛁 Clean data"
   ]
  },
  {
   "cell_type": "code",
   "execution_count": 6,
   "id": "f1faabc2",
   "metadata": {},
   "outputs": [],
   "source": [
    "selected_channels = ['Red Bull Batalla', 'Urban Roosters', 'GODLEVEL FEST', 'playz', 'Miraelbuenrap']\n",
    "banned_channels = ['Ryker', 'Rodrigo Quesada', 'Blon Doblefilo']\n",
    "\n",
    "all_channels = df['channel'].tolist()\n",
    "new_channel_values = []\n",
    "\n",
    "for chan in all_channels:\n",
    "    if chan in selected_channels:\n",
    "        new_channel_values.append(2)\n",
    "    elif chan in banned_channels:\n",
    "        new_channel_values.append(1)\n",
    "    else:\n",
    "        new_channel_values.append(0)\n",
    "\n",
    "df['channel'] = new_channel_values"
   ]
  },
  {
   "cell_type": "code",
   "execution_count": 7,
   "id": "cfc0c4ba",
   "metadata": {},
   "outputs": [
    {
     "data": {
      "text/html": [
       "<div>\n",
       "<style scoped>\n",
       "    .dataframe tbody tr th:only-of-type {\n",
       "        vertical-align: middle;\n",
       "    }\n",
       "\n",
       "    .dataframe tbody tr th {\n",
       "        vertical-align: top;\n",
       "    }\n",
       "\n",
       "    .dataframe thead th {\n",
       "        text-align: right;\n",
       "    }\n",
       "</style>\n",
       "<table border=\"1\" class=\"dataframe\">\n",
       "  <thead>\n",
       "    <tr style=\"text-align: right;\">\n",
       "      <th></th>\n",
       "      <th>channel</th>\n",
       "      <th>is_battle</th>\n",
       "      <th>duration</th>\n",
       "      <th>views</th>\n",
       "    </tr>\n",
       "  </thead>\n",
       "  <tbody>\n",
       "    <tr>\n",
       "      <th>0</th>\n",
       "      <td>2</td>\n",
       "      <td>True</td>\n",
       "      <td>0:09:09</td>\n",
       "      <td>1508907</td>\n",
       "    </tr>\n",
       "    <tr>\n",
       "      <th>1</th>\n",
       "      <td>1</td>\n",
       "      <td>False</td>\n",
       "      <td>0:03:09</td>\n",
       "      <td>5615098</td>\n",
       "    </tr>\n",
       "    <tr>\n",
       "      <th>2</th>\n",
       "      <td>0</td>\n",
       "      <td>False</td>\n",
       "      <td>0:14:41</td>\n",
       "      <td>1450908</td>\n",
       "    </tr>\n",
       "    <tr>\n",
       "      <th>3</th>\n",
       "      <td>1</td>\n",
       "      <td>False</td>\n",
       "      <td>0:01:17</td>\n",
       "      <td>89841</td>\n",
       "    </tr>\n",
       "    <tr>\n",
       "      <th>4</th>\n",
       "      <td>2</td>\n",
       "      <td>True</td>\n",
       "      <td>0:14:16</td>\n",
       "      <td>1203206</td>\n",
       "    </tr>\n",
       "    <tr>\n",
       "      <th>...</th>\n",
       "      <td>...</td>\n",
       "      <td>...</td>\n",
       "      <td>...</td>\n",
       "      <td>...</td>\n",
       "    </tr>\n",
       "    <tr>\n",
       "      <th>1663</th>\n",
       "      <td>1</td>\n",
       "      <td>False</td>\n",
       "      <td>0:41:19</td>\n",
       "      <td>93489</td>\n",
       "    </tr>\n",
       "    <tr>\n",
       "      <th>1664</th>\n",
       "      <td>0</td>\n",
       "      <td>False</td>\n",
       "      <td>0:03:01</td>\n",
       "      <td>115520</td>\n",
       "    </tr>\n",
       "    <tr>\n",
       "      <th>1665</th>\n",
       "      <td>0</td>\n",
       "      <td>True</td>\n",
       "      <td>0:02:18</td>\n",
       "      <td>79467</td>\n",
       "    </tr>\n",
       "    <tr>\n",
       "      <th>1666</th>\n",
       "      <td>0</td>\n",
       "      <td>False</td>\n",
       "      <td>0:07:42</td>\n",
       "      <td>200913</td>\n",
       "    </tr>\n",
       "    <tr>\n",
       "      <th>1667</th>\n",
       "      <td>0</td>\n",
       "      <td>False</td>\n",
       "      <td>0:07:51</td>\n",
       "      <td>38874</td>\n",
       "    </tr>\n",
       "  </tbody>\n",
       "</table>\n",
       "<p>1668 rows × 4 columns</p>\n",
       "</div>"
      ],
      "text/plain": [
       "      channel  is_battle duration    views\n",
       "0           2       True  0:09:09  1508907\n",
       "1           1      False  0:03:09  5615098\n",
       "2           0      False  0:14:41  1450908\n",
       "3           1      False  0:01:17    89841\n",
       "4           2       True  0:14:16  1203206\n",
       "...       ...        ...      ...      ...\n",
       "1663        1      False  0:41:19    93489\n",
       "1664        0      False  0:03:01   115520\n",
       "1665        0       True  0:02:18    79467\n",
       "1666        0      False  0:07:42   200913\n",
       "1667        0      False  0:07:51    38874\n",
       "\n",
       "[1668 rows x 4 columns]"
      ]
     },
     "execution_count": 7,
     "metadata": {},
     "output_type": "execute_result"
    }
   ],
   "source": [
    "df = df.drop('title', axis=1)\n",
    "df = df.drop('image', axis=1)\n",
    "df = df.drop('rapper', axis=1)\n",
    "df = df.drop('date', axis=1)\n",
    "\n",
    "df"
   ]
  },
  {
   "cell_type": "code",
   "execution_count": 8,
   "id": "f57e2b79",
   "metadata": {},
   "outputs": [
    {
     "name": "stderr",
     "output_type": "stream",
     "text": [
      "C:\\Users\\Hector Gomez\\AppData\\Local\\Temp\\ipykernel_10996\\1643241562.py:1: FutureWarning: Setting an item of incompatible dtype is deprecated and will raise in a future error of pandas. Value '1' has dtype incompatible with bool, please explicitly cast to a compatible dtype first.\n",
      "  df.loc[df['is_battle'] == True, 'is_battle'] = 1\n"
     ]
    },
    {
     "data": {
      "text/plain": [
       "0       1\n",
       "1       0\n",
       "2       0\n",
       "3       0\n",
       "4       1\n",
       "       ..\n",
       "1663    0\n",
       "1664    0\n",
       "1665    1\n",
       "1666    0\n",
       "1667    0\n",
       "Name: is_battle, Length: 1668, dtype: object"
      ]
     },
     "execution_count": 8,
     "metadata": {},
     "output_type": "execute_result"
    }
   ],
   "source": [
    "df.loc[df['is_battle'] == True, 'is_battle'] = 1\n",
    "df.loc[df['is_battle'] == False, 'is_battle'] = 0\n",
    "\n",
    "df['is_battle']"
   ]
  },
  {
   "cell_type": "code",
   "execution_count": 9,
   "id": "578cf7d0",
   "metadata": {},
   "outputs": [],
   "source": [
    "def convert_duration(duration) -> int:\n",
    "    duration_datetime = datetime.strptime(duration, \"%H:%M:%S\")\n",
    "\n",
    "    if duration_datetime.hour > 0 or duration_datetime.minute > 23:\n",
    "        return 3 # large\n",
    "    elif duration_datetime.minute <= 23 and duration_datetime.minute > 10:\n",
    "        return 2 # medium\n",
    "    \n",
    "    elif duration_datetime.minute <= 10 and duration_datetime.minute > 5:\n",
    "        return 1 # short\n",
    "    else:\n",
    "        return 0 # very short\n",
    "\n",
    "all_durations = df['duration'].tolist()\n",
    "new_durations = []\n",
    "\n",
    "for dur in all_durations:\n",
    "    new_durations.append(convert_duration(dur))\n",
    "\n",
    "df['duration'] = new_durations\n"
   ]
  },
  {
   "cell_type": "code",
   "execution_count": 10,
   "id": "35b3c160",
   "metadata": {},
   "outputs": [],
   "source": [
    "def convert_cout_visits(visits: str) -> int:\n",
    "    num = int(visits)\n",
    "\n",
    "    if num > 1000000:\n",
    "        return 3 # very popular\n",
    "    elif num <= 1000000 and num > 500000:\n",
    "        return 2 # medium popular\n",
    "    elif num <= 500000 and num > 100000:\n",
    "        return 1 # little popular\n",
    "    else:\n",
    "        return 0 # unpopular\n",
    "    \n",
    "all_visits = df['views'].tolist()\n",
    "new_visits = []\n",
    "\n",
    "for views in all_visits:\n",
    "    new_visits.append(convert_cout_visits(views))\n",
    "\n",
    "df['views'] = new_visits"
   ]
  },
  {
   "cell_type": "code",
   "execution_count": 11,
   "id": "43d44f11",
   "metadata": {},
   "outputs": [],
   "source": [
    "# Save in CSV file\n",
    "df.to_csv('final-train-table.csv', index=False)"
   ]
  },
  {
   "cell_type": "markdown",
   "id": "cbde47c8",
   "metadata": {},
   "source": [
    "## 🌳 Tree creation"
   ]
  },
  {
   "cell_type": "code",
   "execution_count": 34,
   "id": "f3b4f996",
   "metadata": {},
   "outputs": [
    {
     "data": {
      "text/plain": [
       "0       1\n",
       "1       0\n",
       "2       0\n",
       "3       0\n",
       "4       1\n",
       "       ..\n",
       "1663    0\n",
       "1664    0\n",
       "1665    1\n",
       "1666    0\n",
       "1667    0\n",
       "Name: is_battle, Length: 1668, dtype: int64"
      ]
     },
     "execution_count": 34,
     "metadata": {},
     "output_type": "execute_result"
    }
   ],
   "source": [
    "# Object column\n",
    "y = df['is_battle'].astype('int64').copy()\n",
    "\n",
    "y"
   ]
  },
  {
   "cell_type": "code",
   "execution_count": 35,
   "id": "fc3b97a2",
   "metadata": {},
   "outputs": [
    {
     "data": {
      "text/html": [
       "<div>\n",
       "<style scoped>\n",
       "    .dataframe tbody tr th:only-of-type {\n",
       "        vertical-align: middle;\n",
       "    }\n",
       "\n",
       "    .dataframe tbody tr th {\n",
       "        vertical-align: top;\n",
       "    }\n",
       "\n",
       "    .dataframe thead th {\n",
       "        text-align: right;\n",
       "    }\n",
       "</style>\n",
       "<table border=\"1\" class=\"dataframe\">\n",
       "  <thead>\n",
       "    <tr style=\"text-align: right;\">\n",
       "      <th></th>\n",
       "      <th>channel</th>\n",
       "      <th>duration</th>\n",
       "      <th>views</th>\n",
       "    </tr>\n",
       "  </thead>\n",
       "  <tbody>\n",
       "    <tr>\n",
       "      <th>0</th>\n",
       "      <td>2</td>\n",
       "      <td>1</td>\n",
       "      <td>3</td>\n",
       "    </tr>\n",
       "    <tr>\n",
       "      <th>1</th>\n",
       "      <td>1</td>\n",
       "      <td>0</td>\n",
       "      <td>3</td>\n",
       "    </tr>\n",
       "    <tr>\n",
       "      <th>2</th>\n",
       "      <td>0</td>\n",
       "      <td>2</td>\n",
       "      <td>3</td>\n",
       "    </tr>\n",
       "    <tr>\n",
       "      <th>3</th>\n",
       "      <td>1</td>\n",
       "      <td>0</td>\n",
       "      <td>0</td>\n",
       "    </tr>\n",
       "    <tr>\n",
       "      <th>4</th>\n",
       "      <td>2</td>\n",
       "      <td>2</td>\n",
       "      <td>3</td>\n",
       "    </tr>\n",
       "    <tr>\n",
       "      <th>...</th>\n",
       "      <td>...</td>\n",
       "      <td>...</td>\n",
       "      <td>...</td>\n",
       "    </tr>\n",
       "    <tr>\n",
       "      <th>1663</th>\n",
       "      <td>1</td>\n",
       "      <td>3</td>\n",
       "      <td>0</td>\n",
       "    </tr>\n",
       "    <tr>\n",
       "      <th>1664</th>\n",
       "      <td>0</td>\n",
       "      <td>0</td>\n",
       "      <td>1</td>\n",
       "    </tr>\n",
       "    <tr>\n",
       "      <th>1665</th>\n",
       "      <td>0</td>\n",
       "      <td>0</td>\n",
       "      <td>0</td>\n",
       "    </tr>\n",
       "    <tr>\n",
       "      <th>1666</th>\n",
       "      <td>0</td>\n",
       "      <td>1</td>\n",
       "      <td>1</td>\n",
       "    </tr>\n",
       "    <tr>\n",
       "      <th>1667</th>\n",
       "      <td>0</td>\n",
       "      <td>1</td>\n",
       "      <td>0</td>\n",
       "    </tr>\n",
       "  </tbody>\n",
       "</table>\n",
       "<p>1668 rows × 3 columns</p>\n",
       "</div>"
      ],
      "text/plain": [
       "      channel  duration  views\n",
       "0           2         1      3\n",
       "1           1         0      3\n",
       "2           0         2      3\n",
       "3           1         0      0\n",
       "4           2         2      3\n",
       "...       ...       ...    ...\n",
       "1663        1         3      0\n",
       "1664        0         0      1\n",
       "1665        0         0      0\n",
       "1666        0         1      1\n",
       "1667        0         1      0\n",
       "\n",
       "[1668 rows x 3 columns]"
      ]
     },
     "execution_count": 35,
     "metadata": {},
     "output_type": "execute_result"
    }
   ],
   "source": [
    "x = df[['channel', 'duration', 'views']].copy()\n",
    "\n",
    "x"
   ]
  },
  {
   "cell_type": "code",
   "execution_count": 36,
   "id": "c388304f",
   "metadata": {},
   "outputs": [
    {
     "name": "stdout",
     "output_type": "stream",
     "text": [
      "X train\n",
      "       channel  duration  views\n",
      "1220        2         2      3\n",
      "733         0         0      0\n",
      "1210        0         3      1\n",
      "1624        1         0      1\n",
      "1028        0         0      1\n",
      "...       ...       ...    ...\n",
      "600         0         2      0\n",
      "1531        1         2      1\n",
      "908         0         1      3\n",
      "756         0         1      3\n",
      "665         0         1      0\n",
      "\n",
      "[1117 rows x 3 columns] \n",
      "\n",
      "X test\n",
      "       channel  duration  views\n",
      "959         0         0      0\n",
      "651         0         0      0\n",
      "433         0         0      0\n",
      "568         2         0      3\n",
      "1569        0         0      1\n",
      "...       ...       ...    ...\n",
      "217         2         2      0\n",
      "1089        0         1      2\n",
      "1200        0         0      2\n",
      "1138        0         3      0\n",
      "806         0         0      0\n",
      "\n",
      "[551 rows x 3 columns] \n",
      "\n",
      "Y train\n",
      " 1220    1\n",
      "733     0\n",
      "1210    0\n",
      "1624    0\n",
      "1028    0\n",
      "       ..\n",
      "600     0\n",
      "1531    0\n",
      "908     0\n",
      "756     0\n",
      "665     0\n",
      "Name: is_battle, Length: 1117, dtype: int64 \n",
      "\n",
      "Y test\n",
      " 959     0\n",
      "651     0\n",
      "433     0\n",
      "568     0\n",
      "1569    0\n",
      "       ..\n",
      "217     0\n",
      "1089    0\n",
      "1200    0\n",
      "1138    0\n",
      "806     0\n",
      "Name: is_battle, Length: 551, dtype: int64 \n"
     ]
    }
   ],
   "source": [
    "from sklearn.model_selection import train_test_split\n",
    "\n",
    "# create training sets\n",
    "x_train, x_test, y_train, y_test = train_test_split(x, y, test_size=0.33, random_state=324)\n",
    "\n",
    "print('X train\\n', x_train, '\\n')\n",
    "print('X test\\n', x_test, '\\n')\n",
    "print('Y train\\n', y_train, '\\n')\n",
    "print('Y test\\n', y_test, '\\n')"
   ]
  },
  {
   "cell_type": "code",
   "execution_count": 37,
   "id": "1fe0eaa1",
   "metadata": {},
   "outputs": [
    {
     "data": {
      "text/html": [
       "<style>#sk-container-id-1 {color: black;background-color: white;}#sk-container-id-1 pre{padding: 0;}#sk-container-id-1 div.sk-toggleable {background-color: white;}#sk-container-id-1 label.sk-toggleable__label {cursor: pointer;display: block;width: 100%;margin-bottom: 0;padding: 0.3em;box-sizing: border-box;text-align: center;}#sk-container-id-1 label.sk-toggleable__label-arrow:before {content: \"▸\";float: left;margin-right: 0.25em;color: #696969;}#sk-container-id-1 label.sk-toggleable__label-arrow:hover:before {color: black;}#sk-container-id-1 div.sk-estimator:hover label.sk-toggleable__label-arrow:before {color: black;}#sk-container-id-1 div.sk-toggleable__content {max-height: 0;max-width: 0;overflow: hidden;text-align: left;background-color: #f0f8ff;}#sk-container-id-1 div.sk-toggleable__content pre {margin: 0.2em;color: black;border-radius: 0.25em;background-color: #f0f8ff;}#sk-container-id-1 input.sk-toggleable__control:checked~div.sk-toggleable__content {max-height: 200px;max-width: 100%;overflow: auto;}#sk-container-id-1 input.sk-toggleable__control:checked~label.sk-toggleable__label-arrow:before {content: \"▾\";}#sk-container-id-1 div.sk-estimator input.sk-toggleable__control:checked~label.sk-toggleable__label {background-color: #d4ebff;}#sk-container-id-1 div.sk-label input.sk-toggleable__control:checked~label.sk-toggleable__label {background-color: #d4ebff;}#sk-container-id-1 input.sk-hidden--visually {border: 0;clip: rect(1px 1px 1px 1px);clip: rect(1px, 1px, 1px, 1px);height: 1px;margin: -1px;overflow: hidden;padding: 0;position: absolute;width: 1px;}#sk-container-id-1 div.sk-estimator {font-family: monospace;background-color: #f0f8ff;border: 1px dotted black;border-radius: 0.25em;box-sizing: border-box;margin-bottom: 0.5em;}#sk-container-id-1 div.sk-estimator:hover {background-color: #d4ebff;}#sk-container-id-1 div.sk-parallel-item::after {content: \"\";width: 100%;border-bottom: 1px solid gray;flex-grow: 1;}#sk-container-id-1 div.sk-label:hover label.sk-toggleable__label {background-color: #d4ebff;}#sk-container-id-1 div.sk-serial::before {content: \"\";position: absolute;border-left: 1px solid gray;box-sizing: border-box;top: 0;bottom: 0;left: 50%;z-index: 0;}#sk-container-id-1 div.sk-serial {display: flex;flex-direction: column;align-items: center;background-color: white;padding-right: 0.2em;padding-left: 0.2em;position: relative;}#sk-container-id-1 div.sk-item {position: relative;z-index: 1;}#sk-container-id-1 div.sk-parallel {display: flex;align-items: stretch;justify-content: center;background-color: white;position: relative;}#sk-container-id-1 div.sk-item::before, #sk-container-id-1 div.sk-parallel-item::before {content: \"\";position: absolute;border-left: 1px solid gray;box-sizing: border-box;top: 0;bottom: 0;left: 50%;z-index: -1;}#sk-container-id-1 div.sk-parallel-item {display: flex;flex-direction: column;z-index: 1;position: relative;background-color: white;}#sk-container-id-1 div.sk-parallel-item:first-child::after {align-self: flex-end;width: 50%;}#sk-container-id-1 div.sk-parallel-item:last-child::after {align-self: flex-start;width: 50%;}#sk-container-id-1 div.sk-parallel-item:only-child::after {width: 0;}#sk-container-id-1 div.sk-dashed-wrapped {border: 1px dashed gray;margin: 0 0.4em 0.5em 0.4em;box-sizing: border-box;padding-bottom: 0.4em;background-color: white;}#sk-container-id-1 div.sk-label label {font-family: monospace;font-weight: bold;display: inline-block;line-height: 1.2em;}#sk-container-id-1 div.sk-label-container {text-align: center;}#sk-container-id-1 div.sk-container {/* jupyter's `normalize.less` sets `[hidden] { display: none; }` but bootstrap.min.css set `[hidden] { display: none !important; }` so we also need the `!important` here to be able to override the default hidden behavior on the sphinx rendered scikit-learn.org. See: https://github.com/scikit-learn/scikit-learn/issues/21755 */display: inline-block !important;position: relative;}#sk-container-id-1 div.sk-text-repr-fallback {display: none;}</style><div id=\"sk-container-id-1\" class=\"sk-top-container\"><div class=\"sk-text-repr-fallback\"><pre>DecisionTreeClassifier(max_leaf_nodes=15, random_state=0)</pre><b>In a Jupyter environment, please rerun this cell to show the HTML representation or trust the notebook. <br />On GitHub, the HTML representation is unable to render, please try loading this page with nbviewer.org.</b></div><div class=\"sk-container\" hidden><div class=\"sk-item\"><div class=\"sk-estimator sk-toggleable\"><input class=\"sk-toggleable__control sk-hidden--visually\" id=\"sk-estimator-id-1\" type=\"checkbox\" checked><label for=\"sk-estimator-id-1\" class=\"sk-toggleable__label sk-toggleable__label-arrow\">DecisionTreeClassifier</label><div class=\"sk-toggleable__content\"><pre>DecisionTreeClassifier(max_leaf_nodes=15, random_state=0)</pre></div></div></div></div></div>"
      ],
      "text/plain": [
       "DecisionTreeClassifier(max_leaf_nodes=15, random_state=0)"
      ]
     },
     "execution_count": 37,
     "metadata": {},
     "output_type": "execute_result"
    }
   ],
   "source": [
    "from sklearn.tree import DecisionTreeClassifier\n",
    "\n",
    "# create tree\n",
    "battle_classifier = DecisionTreeClassifier(max_leaf_nodes=15, random_state=0)\n",
    "\n",
    "# train\n",
    "battle_classifier.fit(x_train, y_train)"
   ]
  },
  {
   "cell_type": "code",
   "execution_count": 41,
   "id": "0daac4f2",
   "metadata": {},
   "outputs": [
    {
     "data": {
      "text/plain": [
       "0.8874773139745916"
      ]
     },
     "execution_count": 41,
     "metadata": {},
     "output_type": "execute_result"
    }
   ],
   "source": [
    "from sklearn.metrics import accuracy_score\n",
    "\n",
    "# predictions\n",
    "predictions = battle_classifier.predict(x_test)\n",
    "\n",
    "accuracy_score(y_true=y_test, y_pred=predictions)"
   ]
  },
  {
   "cell_type": "markdown",
   "id": "67be9556",
   "metadata": {},
   "source": [
    "## 📦 Save decision tree"
   ]
  },
  {
   "cell_type": "code",
   "execution_count": 43,
   "id": "b711cf56",
   "metadata": {},
   "outputs": [
    {
     "data": {
      "text/plain": [
       "['tree_model.joblib']"
      ]
     },
     "execution_count": 43,
     "metadata": {},
     "output_type": "execute_result"
    }
   ],
   "source": [
    "import joblib\n",
    "\n",
    "joblib.dump(battle_classifier, 'tree_model.joblib')"
   ]
  }
 ],
 "metadata": {
  "kernelspec": {
   "display_name": "Python 3",
   "language": "python",
   "name": "python3"
  },
  "language_info": {
   "codemirror_mode": {
    "name": "ipython",
    "version": 3
   },
   "file_extension": ".py",
   "mimetype": "text/x-python",
   "name": "python",
   "nbconvert_exporter": "python",
   "pygments_lexer": "ipython3",
   "version": "3.11.7"
  }
 },
 "nbformat": 4,
 "nbformat_minor": 5
}
